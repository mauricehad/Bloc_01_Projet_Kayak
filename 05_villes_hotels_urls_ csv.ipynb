{
 "cells": [
  {
   "cell_type": "code",
   "execution_count": 1,
   "metadata": {},
   "outputs": [],
   "source": [
    "# générer un csv qui concat tous les fichier json x_hotels_urls.json en donnant un id unique à chaque hôtel.\n",
    "\n",
    "import os\n",
    "import pandas as pd\n",
    "\n",
    "# Chemin vers le dossier contenant les fichiers JSON\n",
    "json_folder = \"/Users/maurice/Documents/certification/bloc_1_Build_and_manage_a_data_infrastructure/json_files/hotels_url\"\n",
    "\n",
    "# Liste pour stocker les DataFrames\n",
    "x_hotels_urls = []\n",
    "\n",
    "# Parcourir les fichiers JSON dans le dossier\n",
    "for filename in os.listdir(json_folder):\n",
    "    file_path = os.path.join(json_folder, filename)\n",
    "    x_hotels_urls.append(pd.read_json(file_path))\n",
    "\n",
    "# Concaténer tous les DataFrames\n",
    "villes_hotels_urls = pd.concat(x_hotels_urls, ignore_index=True)\n",
    "\n",
    "# Trier les données par \"id_destination\"\n",
    "villes_hotels_urls = villes_hotels_urls.sort_values(by=\"id_destination\")\n",
    "\n",
    "# Ajouter une colonne \"id_hotel\" avec un identifiant unique pour chaque hôtel\n",
    "villes_hotels_urls.insert(villes_hotels_urls.columns.get_loc(\"id_destination\") + 1, \"id_hotel\", range(1, len(villes_hotels_urls) + 1))\n",
    "\n",
    "# Chemin pour sauvegarder le fichier CSV\n",
    "output_csv_path = \"./csv_files/villes_hotel.csv\"\n",
    "\n",
    "# Sauvegarder les données en CSV\n",
    "villes_hotels_urls.to_csv(output_csv_path, index=False)\n"
   ]
  },
  {
   "cell_type": "code",
   "execution_count": null,
   "metadata": {},
   "outputs": [],
   "source": []
  }
 ],
 "metadata": {
  "kernelspec": {
   "display_name": "base",
   "language": "python",
   "name": "python3"
  },
  "language_info": {
   "codemirror_mode": {
    "name": "ipython",
    "version": 3
   },
   "file_extension": ".py",
   "mimetype": "text/x-python",
   "name": "python",
   "nbconvert_exporter": "python",
   "pygments_lexer": "ipython3",
   "version": "3.12.2"
  }
 },
 "nbformat": 4,
 "nbformat_minor": 2
}
